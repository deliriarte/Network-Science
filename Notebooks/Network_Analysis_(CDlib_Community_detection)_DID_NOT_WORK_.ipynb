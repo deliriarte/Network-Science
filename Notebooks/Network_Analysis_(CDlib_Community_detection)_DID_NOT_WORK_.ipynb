{
  "nbformat": 4,
  "nbformat_minor": 0,
  "metadata": {
    "colab": {
      "name": "Network Analysis (CDlib-  Community detection) /DID NOT WORK .ipynb",
      "provenance": [],
      "collapsed_sections": []
    },
    "kernelspec": {
      "display_name": "Python 3",
      "language": "python",
      "name": "python3"
    },
    "language_info": {
      "codemirror_mode": {
        "name": "ipython",
        "version": 3
      },
      "file_extension": ".py",
      "mimetype": "text/x-python",
      "name": "python",
      "nbconvert_exporter": "python",
      "pygments_lexer": "ipython3",
      "version": "3.7.7"
    }
  },
  "cells": [
    {
      "cell_type": "markdown",
      "metadata": {
        "id": "gJozGxD131EX"
      },
      "source": [
        "# Community detection - **Igraph**\r\n",
        "\r\n",
        "---------------------------------------------\r\n",
        "\r\n",
        "Installing libraries\r\n",
        "\r\n"
      ]
    },
    {
      "cell_type": "code",
      "metadata": {
        "colab": {
          "base_uri": "https://localhost:8080/"
        },
        "id": "9bSC4mB91ec8",
        "outputId": "1c788b34-d38b-4681-b827-5e89f3fd959d"
      },
      "source": [
        "!pip install python-igraph\r\n",
        "!pip install cairocffi\r\n",
        "!pip install CDlib"
      ],
      "execution_count": null,
      "outputs": [
        {
          "output_type": "stream",
          "text": [
            "Collecting python-igraph\n",
            "\u001b[?25l  Downloading https://files.pythonhosted.org/packages/20/6e/3ac2fc339051f652d4a01570d133e4d15321aaec929ffb5f49a67852f8d9/python_igraph-0.8.3-cp36-cp36m-manylinux2010_x86_64.whl (3.2MB)\n",
            "\u001b[K     |████████████████████████████████| 3.2MB 4.1MB/s \n",
            "\u001b[?25hCollecting texttable>=1.6.2\n",
            "  Downloading https://files.pythonhosted.org/packages/06/f5/46201c428aebe0eecfa83df66bf3e6caa29659dbac5a56ddfd83cae0d4a4/texttable-1.6.3-py2.py3-none-any.whl\n",
            "Installing collected packages: texttable, python-igraph\n",
            "Successfully installed python-igraph-0.8.3 texttable-1.6.3\n",
            "Collecting cairocffi\n",
            "\u001b[?25l  Downloading https://files.pythonhosted.org/packages/84/ca/0bffed5116d21251469df200448667e90acaa5131edea869b44a3fbc73d0/cairocffi-1.2.0.tar.gz (70kB)\n",
            "\u001b[K     |████████████████████████████████| 71kB 3.0MB/s \n",
            "\u001b[?25hRequirement already satisfied: cffi>=1.1.0 in /usr/local/lib/python3.6/dist-packages (from cairocffi) (1.14.4)\n",
            "Requirement already satisfied: pycparser in /usr/local/lib/python3.6/dist-packages (from cffi>=1.1.0->cairocffi) (2.20)\n",
            "Building wheels for collected packages: cairocffi\n",
            "  Building wheel for cairocffi (setup.py) ... \u001b[?25l\u001b[?25hdone\n",
            "  Created wheel for cairocffi: filename=cairocffi-1.2.0-cp36-none-any.whl size=89552 sha256=b97f4cd43be1f22cbb3b0eef2ad904d90994289d6ea1df4d0c7555c3ed9be86b\n",
            "  Stored in directory: /root/.cache/pip/wheels/40/76/48/f1effadceea83b32e7d957dd0f92db4db8b537d7b72b4ef374\n",
            "Successfully built cairocffi\n",
            "Installing collected packages: cairocffi\n",
            "Successfully installed cairocffi-1.2.0\n",
            "Collecting CDlib\n",
            "\u001b[?25l  Downloading https://files.pythonhosted.org/packages/7b/34/cf3eaaeb9b3fcb68019e2009d68f34c5a2b1faa01d4ab72243cbc583ddd2/cdlib-0.1.10-py3-none-any.whl (135kB)\n",
            "\u001b[K     |████████████████████████████████| 143kB 5.5MB/s \n",
            "\u001b[?25hRequirement already satisfied: scikit-learn>=0.21.* in /usr/local/lib/python3.6/dist-packages (from CDlib) (0.22.2.post1)\n",
            "Requirement already satisfied: tqdm>=4.20.* in /usr/local/lib/python3.6/dist-packages (from CDlib) (4.41.1)\n",
            "Collecting demon>=2.0.5\n",
            "  Downloading https://files.pythonhosted.org/packages/87/21/e84965594c51885a2f3b5f6ff224ba58f932cc66241489e0d763b9ac531b/demon-2.0.5-py3-none-any.whl\n",
            "Requirement already satisfied: future>=0.16.* in /usr/local/lib/python3.6/dist-packages (from CDlib) (0.16.0)\n",
            "Collecting chinese-whispers\n",
            "  Downloading https://files.pythonhosted.org/packages/b8/17/86fc9c1b5bdb2686ce0aa83044d8692d0e7361b8791802d7bef2cc0ef01f/chinese_whispers-0.7.3-py3-none-any.whl\n",
            "Collecting bimlpa\n",
            "  Downloading https://files.pythonhosted.org/packages/11/8c/7d409d7e7bcbd261c7f19737feaa1ef66514512c7f7d6b9a776d7aac7c33/bimlpa-0.1.2-py3-none-any.whl\n",
            "Requirement already satisfied: matplotlib>=3.0.* in /usr/local/lib/python3.6/dist-packages (from CDlib) (3.2.2)\n",
            "Requirement already satisfied: scipy>=1.3.* in /usr/local/lib/python3.6/dist-packages (from CDlib) (1.4.1)\n",
            "Collecting karateclub>=1.0.0\n",
            "\u001b[?25l  Downloading https://files.pythonhosted.org/packages/d8/cd/e4e59588a58c6b6f67e5bd561ecfda9bd981632f675e6f8e1e46a8f9fe6e/karateclub-1.0.22.tar.gz (56kB)\n",
            "\u001b[K     |████████████████████████████████| 61kB 3.9MB/s \n",
            "\u001b[?25hCollecting ASLPAw==2.0.0\n",
            "  Downloading https://files.pythonhosted.org/packages/af/a4/67dcbe51833c044c60a892e4ab5ca90a73e77317f0dcf377e2f9c6451922/ASLPAw-2.0.0-py3-none-any.whl\n",
            "Collecting shuffle-graph==1.1.1\n",
            "  Downloading https://files.pythonhosted.org/packages/18/14/22153a8d389370cae50bedd58239f640afe9717085a7a4e9bc5f801886aa/shuffle_graph-1.1.1-py3-none-any.whl\n",
            "Collecting pulp>=2.1\n",
            "\u001b[?25l  Downloading https://files.pythonhosted.org/packages/14/c4/0eec14a0123209c261de6ff154ef3be5cad3fd557c084f468356662e0585/PuLP-2.4-py3-none-any.whl (40.6MB)\n",
            "\u001b[K     |████████████████████████████████| 40.6MB 96kB/s \n",
            "\u001b[?25hRequirement already satisfied: pandas>=0.24 in /usr/local/lib/python3.6/dist-packages (from CDlib) (1.1.5)\n",
            "Collecting nf1\n",
            "  Downloading https://files.pythonhosted.org/packages/4c/41/18e9d6c802db1084c157a0d6c5b38be5878f925e1cf53d7eb03edc7ec6ad/nf1-0.0.3-py3-none-any.whl\n",
            "Collecting python-louvain==0.14\n",
            "  Downloading https://files.pythonhosted.org/packages/31/d4/d244fa4ca96af747b9204ce500e8919ce72eab60de2129b22a45434f1598/python-louvain-0.14.tar.gz\n",
            "Collecting omega-index-py3\n",
            "  Downloading https://files.pythonhosted.org/packages/fb/57/ab48f801af9ef0ce273fe1969df825a99f52a73ff18767c7084f60471028/omega_index_py3-0.3-py3-none-any.whl\n",
            "Requirement already satisfied: networkx>=2.4 in /usr/local/lib/python3.6/dist-packages (from CDlib) (2.5)\n",
            "Collecting pquality==0.0.7\n",
            "  Downloading https://files.pythonhosted.org/packages/12/f8/5357fd9dfe0f105fea5439fcb01a21b8550a71d0e0b702b2bc0372c953c4/pquality-0.0.7-py3-none-any.whl\n",
            "Collecting markov-clustering\n",
            "  Downloading https://files.pythonhosted.org/packages/76/42/19e11a42fa952d35116b90577e2cde31c541ce78364a52167f852864ba29/markov_clustering-0.0.6.dev0-py3-none-any.whl\n",
            "Requirement already satisfied: seaborn>=0.9.* in /usr/local/lib/python3.6/dist-packages (from CDlib) (0.11.1)\n",
            "Requirement already satisfied: numpy>=1.15.* in /usr/local/lib/python3.6/dist-packages (from CDlib) (1.19.5)\n",
            "Collecting eva-lcd\n",
            "  Downloading https://files.pythonhosted.org/packages/e2/a4/f1f79a5c964831e2d3864e159c433cab5a8f420017e3492d615415c4ac24/eva_lcd-0.1.0-py3-none-any.whl\n",
            "Requirement already satisfied: joblib>=0.11 in /usr/local/lib/python3.6/dist-packages (from scikit-learn>=0.21.*->CDlib) (1.0.0)\n",
            "Requirement already satisfied: kiwisolver>=1.0.1 in /usr/local/lib/python3.6/dist-packages (from matplotlib>=3.0.*->CDlib) (1.3.1)\n",
            "Requirement already satisfied: cycler>=0.10 in /usr/local/lib/python3.6/dist-packages (from matplotlib>=3.0.*->CDlib) (0.10.0)\n",
            "Requirement already satisfied: python-dateutil>=2.1 in /usr/local/lib/python3.6/dist-packages (from matplotlib>=3.0.*->CDlib) (2.8.1)\n",
            "Requirement already satisfied: pyparsing!=2.0.4,!=2.1.2,!=2.1.6,>=2.0.1 in /usr/local/lib/python3.6/dist-packages (from matplotlib>=3.0.*->CDlib) (2.4.7)\n",
            "Collecting pygsp\n",
            "\u001b[?25l  Downloading https://files.pythonhosted.org/packages/d4/89/2f4aa73cccf12bec5179ac5d52a68b508120c838b7e5d456f5ea0c8beade/PyGSP-0.5.1-py2.py3-none-any.whl (1.8MB)\n",
            "\u001b[K     |████████████████████████████████| 1.8MB 36.5MB/s \n",
            "\u001b[?25hCollecting gensim==3.8.3\n",
            "\u001b[?25l  Downloading https://files.pythonhosted.org/packages/2b/e0/fa6326251692056dc880a64eb22117e03269906ba55a6864864d24ec8b4e/gensim-3.8.3-cp36-cp36m-manylinux1_x86_64.whl (24.2MB)\n",
            "\u001b[K     |████████████████████████████████| 24.2MB 123kB/s \n",
            "\u001b[?25hRequirement already satisfied: six in /usr/local/lib/python3.6/dist-packages (from karateclub>=1.0.0->CDlib) (1.15.0)\n",
            "Collecting count-dict>=1.0.1\n",
            "  Downloading https://files.pythonhosted.org/packages/52/eb/71198e4442aa59bc803c700ddc62251aa1a363ca125641e981e10c8c4529/count_dict-1.0.2-py3-none-any.whl\n",
            "Collecting multivalued-dict>=1.7.1\n",
            "  Downloading https://files.pythonhosted.org/packages/95/6c/a66dffcae0de67fb11c6b1fef1d54b557e7f82d31c86e127d01368a05e02/multivalued_dict-1.7.1-py3-none-any.whl\n",
            "Collecting amply>=0.1.2\n",
            "  Downloading https://files.pythonhosted.org/packages/f3/c5/dfa09dd2595a2ab2ab4e6fa7bebef9565812722e1980d04b0edce5032066/amply-0.1.4-py3-none-any.whl\n",
            "Requirement already satisfied: pytz>=2017.2 in /usr/local/lib/python3.6/dist-packages (from pandas>=0.24->CDlib) (2018.9)\n",
            "Requirement already satisfied: decorator>=4.3.0 in /usr/local/lib/python3.6/dist-packages (from networkx>=2.4->CDlib) (4.4.2)\n",
            "Requirement already satisfied: smart-open>=1.8.1 in /usr/local/lib/python3.6/dist-packages (from gensim==3.8.3->karateclub>=1.0.0->CDlib) (4.1.0)\n",
            "Requirement already satisfied: docutils>=0.3 in /usr/local/lib/python3.6/dist-packages (from amply>=0.1.2->pulp>=2.1->CDlib) (0.16)\n",
            "Building wheels for collected packages: karateclub, python-louvain\n",
            "  Building wheel for karateclub (setup.py) ... \u001b[?25l\u001b[?25hdone\n",
            "  Created wheel for karateclub: filename=karateclub-1.0.22-cp36-none-any.whl size=93242 sha256=cceb26a619bf96851eb1b1bd74b6a8ca854a0341ba773fb1c502224287d84644\n",
            "  Stored in directory: /root/.cache/pip/wheels/60/ef/0a/b9f163e1bc2fa9337ef4b183529d09c2ea78588cbc2c3753ef\n",
            "  Building wheel for python-louvain (setup.py) ... \u001b[?25l\u001b[?25hdone\n",
            "  Created wheel for python-louvain: filename=python_louvain-0.14-cp36-none-any.whl size=9293 sha256=c4a41019fa53e67408f8793944279334edf876f990c166107b45076a0ed690dc\n",
            "  Stored in directory: /root/.cache/pip/wheels/e7/8d/24/6b3a464bb23e96ecba3f68868e85721534fd8158a9cd7b426b\n",
            "Successfully built karateclub python-louvain\n",
            "Installing collected packages: demon, chinese-whispers, bimlpa, python-louvain, pygsp, gensim, karateclub, shuffle-graph, count-dict, multivalued-dict, ASLPAw, amply, pulp, nf1, omega-index-py3, pquality, markov-clustering, eva-lcd, CDlib\n",
            "  Found existing installation: python-louvain 0.15\n",
            "    Uninstalling python-louvain-0.15:\n",
            "      Successfully uninstalled python-louvain-0.15\n",
            "  Found existing installation: gensim 3.6.0\n",
            "    Uninstalling gensim-3.6.0:\n",
            "      Successfully uninstalled gensim-3.6.0\n",
            "Successfully installed ASLPAw-2.0.0 CDlib-0.1.10 amply-0.1.4 bimlpa-0.1.2 chinese-whispers-0.7.3 count-dict-1.0.2 demon-2.0.5 eva-lcd-0.1.0 gensim-3.8.3 karateclub-1.0.22 markov-clustering-0.0.6.dev0 multivalued-dict-1.7.1 nf1-0.0.3 omega-index-py3-0.3 pquality-0.0.7 pulp-2.4 pygsp-0.5.1 python-louvain-0.14 shuffle-graph-1.1.1\n"
          ],
          "name": "stdout"
        }
      ]
    },
    {
      "cell_type": "code",
      "metadata": {
        "id": "bBkeFF-V1iUe"
      },
      "source": [
        "import pandas as pd\r\n",
        "import itertools\r\n",
        "import networkx as nx\r\n",
        "import igraph as ig\r\n",
        "import ast\r\n",
        "import cairocffi as cairo\r\n",
        "import random\r\n",
        "import math\r\n",
        "import numpy as np\r\n",
        "import matplotlib.pyplot as plt\r\n",
        "import seaborn as sns\r\n",
        "import time\r\n",
        "from scipy.optimize import curve_fit\r\n",
        "import cdlib"
      ],
      "execution_count": null,
      "outputs": []
    },
    {
      "cell_type": "code",
      "metadata": {
        "colab": {
          "base_uri": "https://localhost:8080/"
        },
        "id": "M3ZZxvOpBDyx",
        "outputId": "a5aceab2-74ff-411f-edaf-d32120a4fa56"
      },
      "source": [
        "!pip install leidenalg "
      ],
      "execution_count": null,
      "outputs": [
        {
          "output_type": "stream",
          "text": [
            "Collecting leidenalg\n",
            "\u001b[?25l  Downloading https://files.pythonhosted.org/packages/ea/9c/a061572e698d4cc60968bb77898bbf74e34a6a2c103e743b96c970673434/leidenalg-0.8.3-cp36-cp36m-manylinux2010_x86_64.whl (2.4MB)\n",
            "\u001b[K     |████████████████████████████████| 2.4MB 4.2MB/s \n",
            "\u001b[?25hRequirement already satisfied: python-igraph>=0.8.0 in /usr/local/lib/python3.6/dist-packages (from leidenalg) (0.8.3)\n",
            "Requirement already satisfied: texttable>=1.6.2 in /usr/local/lib/python3.6/dist-packages (from python-igraph>=0.8.0->leidenalg) (1.6.3)\n",
            "Installing collected packages: leidenalg\n",
            "Successfully installed leidenalg-0.8.3\n"
          ],
          "name": "stdout"
        }
      ]
    },
    {
      "cell_type": "code",
      "metadata": {
        "id": "rVLIm6H1BBgM"
      },
      "source": [
        "import leidenalg "
      ],
      "execution_count": null,
      "outputs": []
    },
    {
      "cell_type": "code",
      "metadata": {
        "id": "rpiJhF5HBHTn"
      },
      "source": [
        "import cdlib"
      ],
      "execution_count": null,
      "outputs": []
    },
    {
      "cell_type": "code",
      "metadata": {
        "id": "31ydjrHfBHQ3"
      },
      "source": [
        "from cdlib import algorithms"
      ],
      "execution_count": null,
      "outputs": []
    },
    {
      "cell_type": "code",
      "metadata": {
        "colab": {
          "base_uri": "https://localhost:8080/"
        },
        "id": "lIk1dQCx0yC1",
        "outputId": "e5d0a62e-065c-4639-99a2-c2e2484c4178"
      },
      "source": [
        "from google.colab import drive\n",
        "drive.mount('/content/drive')"
      ],
      "execution_count": null,
      "outputs": [
        {
          "output_type": "stream",
          "text": [
            "Mounted at /content/drive\n"
          ],
          "name": "stdout"
        }
      ]
    },
    {
      "cell_type": "markdown",
      "metadata": {
        "id": "JY2ezI5M8kWu"
      },
      "source": [
        "Creating a **graph** from a pandas dataframe"
      ]
    },
    {
      "cell_type": "code",
      "metadata": {
        "id": "fYlL0pMsW5cF"
      },
      "source": [
        "def get_graph(adj_matfile, neuron_namesfile):\r\n",
        "    # import the adjacency matrix from text file\r\n",
        "    adjacency = np.loadtxt(adj_matfile,dtype='int')\r\n",
        "    print(\"Shape of adjacency matrix:\", adjacency.shape)\r\n",
        "\r\n",
        "    # import names of each neuron\r\n",
        "    f = open(neuron_namesfile,\"r\") #opens file with name of \"test.txt\"\r\n",
        "    neuron_names = []\r\n",
        "    for line in f:\r\n",
        "        neuron_names.append(line[:-1]) #[:-1] because we don't want /n in the end.  \r\n",
        "    #print((neuron_names2))\r\n",
        "    n_neurons = len(neuron_names)\r\n",
        "    print(\"Total number of neurons:\",n_neurons)\r\n",
        "    \r\n",
        "    # create node and node attributes which is the name for the graph\r\n",
        "    nodes_list = []\r\n",
        "    for i in range(len(neuron_names)):\r\n",
        "        #node attribute is given by its neuron name\r\n",
        "        nodes_list.append((i,{\"name\":neuron_names[i]}))\r\n",
        "    #print(len(nodes_list))\r\n",
        "\r\n",
        "    # creating an edge list from adjacency matrix\r\n",
        "    edge_list=[]\r\n",
        "    for i in range(len(neuron_names)):\r\n",
        "        for j in range(len(neuron_names)):\r\n",
        "            if adjacency[i,j]==0: # if there's no weight, let's forget the edge.\r\n",
        "                pass\r\n",
        "            else:\r\n",
        "                edge_list.append( (i,j,{\"weight\":adjacency[i,j],\"Label\":\"%s - %s\"%(neuron_names[i],neuron_names[j])}) )\r\n",
        "    # Creating a directed graph from adjacency matrix so that it will be easy to deal using the networkx module\r\n",
        "\r\n",
        "    G = nx.DiGraph()\r\n",
        "\r\n",
        "    # Add all the nodes to the graph\r\n",
        "    G.add_nodes_from(nodes_list)\r\n",
        "    # Add all the edges to the graph\r\n",
        "    G.add_edges_from(edge_list)\r\n",
        "\r\n",
        "    return adjacency, neuron_names, n_neurons, G"
      ],
      "execution_count": null,
      "outputs": []
    },
    {
      "cell_type": "code",
      "metadata": {
        "colab": {
          "base_uri": "https://localhost:8080/"
        },
        "id": "c9Y5MGtNW6bs",
        "outputId": "1eeea884-6d91-4951-ab95-a5926b82f470"
      },
      "source": [
        "adj, neuron_names, number_neurons, G = get_graph(\"/content/drive/MyDrive/Network Science/Delfina/adjacency.txt\", \"/content/drive/MyDrive/Network Science/Delfina/neuron_names.txt\")\r\n"
      ],
      "execution_count": null,
      "outputs": [
        {
          "output_type": "stream",
          "text": [
            "Shape of adjacency matrix: (3163, 3163)\n",
            "Total number of neurons: 3163\n"
          ],
          "name": "stdout"
        }
      ]
    },
    {
      "cell_type": "code",
      "metadata": {
        "colab": {
          "base_uri": "https://localhost:8080/"
        },
        "id": "dZ_WH288XgQj",
        "outputId": "a7101291-6737-4c65-d54a-9ce8e5051b05"
      },
      "source": [
        "G.is_directed()"
      ],
      "execution_count": null,
      "outputs": [
        {
          "output_type": "execute_result",
          "data": {
            "text/plain": [
              "True"
            ]
          },
          "metadata": {
            "tags": []
          },
          "execution_count": 6
        }
      ]
    },
    {
      "cell_type": "markdown",
      "metadata": {
        "id": "mEQBi4OV9ry_"
      },
      "source": [
        "From *networkx* to *igraph*"
      ]
    },
    {
      "cell_type": "code",
      "metadata": {
        "id": "QS-Y06yyB2Oh"
      },
      "source": [
        "from cdlib.algorithms import louvain"
      ],
      "execution_count": null,
      "outputs": []
    },
    {
      "cell_type": "code",
      "metadata": {
        "id": "A1MnnURxBHN7"
      },
      "source": [
        "leiden_coms = algorithms.leiden(G)"
      ],
      "execution_count": null,
      "outputs": []
    },
    {
      "cell_type": "code",
      "metadata": {
        "colab": {
          "base_uri": "https://localhost:8080/"
        },
        "id": "_rSrCU9jBHE4",
        "outputId": "2332de04-8456-4083-ef22-043490523ced"
      },
      "source": [
        "len(leiden_coms.communities) # Identified Clustering"
      ],
      "execution_count": null,
      "outputs": [
        {
          "output_type": "execute_result",
          "data": {
            "text/plain": [
              "13"
            ]
          },
          "metadata": {
            "tags": []
          },
          "execution_count": 24
        }
      ]
    },
    {
      "cell_type": "code",
      "metadata": {
        "id": "SCLJ2XcEBHB7"
      },
      "source": [
        "#lp_coms = algorithms.label_propagation(G)\r\n",
        "leiden_coms = algorithms.leiden(G)\r\n",
        "wp_coms = algorithms.walktrap(G)\r\n",
        "h = algorithms.hierarchical_link_community(G)\r\n",
        "eigen = algorithms.eigenvector(G)\r\n",
        "#girvan = algorithms.girvan_newman(G, 3)\r\n",
        "#markov = algorithms.markov_clustering(G)\r\n",
        "#spin = algorithms.spinglass(G)\r\n",
        "\r\n",
        "viz.plot_sim_matrix([leiden_coms,  wp_coms, h, eigen],evaluation.adjusted_mutual_information)"
      ],
      "execution_count": null,
      "outputs": []
    },
    {
      "cell_type": "code",
      "metadata": {
        "id": "RsxOGHGLEI8r"
      },
      "source": [
        ""
      ],
      "execution_count": null,
      "outputs": []
    }
  ]
}